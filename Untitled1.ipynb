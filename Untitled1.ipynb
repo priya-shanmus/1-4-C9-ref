{
  "nbformat": 4,
  "nbformat_minor": 0,
  "metadata": {
    "colab": {
      "provenance": [],
      "include_colab_link": true
    },
    "kernelspec": {
      "display_name": "Python 3",
      "name": "python3"
    },
    "language_info": {
      "name": "python"
    }
  },
  "cells": [
    {
      "cell_type": "markdown",
      "metadata": {
        "id": "view-in-github",
        "colab_type": "text"
      },
      "source": [
        "<a href=\"https://colab.research.google.com/github/priya-shanmus/1-4-C9-ref/blob/main/Untitled1.ipynb\" target=\"_parent\"><img src=\"https://colab.research.google.com/assets/colab-badge.svg\" alt=\"Open In Colab\"/></a>"
      ]
    },
    {
      "cell_type": "code",
      "metadata": {
        "id": "op8-sBC5MGjn"
      },
      "source": [],
      "execution_count": null,
      "outputs": []
    },
    {
      "cell_type": "code",
      "metadata": {
        "colab": {
          "base_uri": "https://localhost:8080/"
        },
        "id": "-8sUqIYhMKC_",
        "outputId": "bb320125-fcb3-4233-b0d6-c5cf77ccc3e5"
      },
      "source": [
        "\n",
        "while True: # outer loop for customers\n",
        "    Total=0 # Variable total for each customer\n",
        "    Customer_name=input(\"Name of customer :\") #get name of customer\n",
        "    #repeat till no more items to add\n",
        "    while True: #inner loop for items in cart\n",
        "        #display menu\n",
        "        print(\"Enter cost of items and quantity\")\n",
        "        Cost=float(input(\"Item cost :\"))#get cost of item\n",
        "        Quantity=int(input(\"Quantity :\"))#get quantity of item\n",
        "        #find total amount so far\n",
        "        Total+=Cost*Quantity #total=total+amount*qty                \n",
        "        repeat=input(\"Do you want to add more items?(y/Y/n/N)\")\n",
        "        if repeat=='n' or repeat=='N':\n",
        "            break\n",
        "    print(\"_\"*50)\n",
        "    print(\"Name :\",Customer_name)\n",
        "    print(\"Total bill cost : \",Total)\n",
        "    print()\n",
        "    print(\"*****Thankyou shopping with us*****\")\n",
        "    print(\"_\"*50)\n",
        "    #check if there are more people in the queue\n",
        "    new_customer=input(\"Go to next person?(y/Y/n/N)\")\n",
        "    if new_customer=='n' or new_customer=='N':\n",
        "        break #break from outer loop\n"
      ],
      "execution_count": null,
      "outputs": [
        {
          "output_type": "stream",
          "text": [
            "Name of customer :Tamanna\n",
            "Enter cost of items and quantity\n",
            "Item cost :30\n",
            "Quantity :5\n",
            "Do you want to add more items?(y/Y/n/N)n\n",
            "__________________________________________________\n",
            "Name : Tamanna\n",
            "Total bill cost :  150.0\n",
            "\n",
            "*****Thankyou shopping with us*****\n",
            "__________________________________________________\n",
            "Go to next person?(y/Y/n/N)y\n",
            "Name of customer :Apporav\n",
            "Enter cost of items and quantity\n",
            "Item cost :30\n",
            "Quantity :10\n",
            "Do you want to add more items?(y/Y/n/N)n\n",
            "__________________________________________________\n",
            "Name : Apporav\n",
            "Total bill cost :  300.0\n",
            "\n",
            "*****Thankyou shopping with us*****\n",
            "__________________________________________________\n",
            "Go to next person?(y/Y/n/N)n\n"
          ],
          "name": "stdout"
        }
      ]
    }
  ]
}